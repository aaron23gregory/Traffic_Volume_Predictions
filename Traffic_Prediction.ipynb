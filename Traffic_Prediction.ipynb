{
  "cells": [
    {
      "cell_type": "markdown",
      "metadata": {
        "id": "qYRKS-AL05o_"
      },
      "source": [
        "Aaron Gregory\n",
        "CSC578 Final Time Series Notebook\n",
        "Async Section"
      ]
    },
    {
      "cell_type": "code",
      "execution_count": null,
      "metadata": {
        "id": "wCAXpYhj1tTN"
      },
      "outputs": [],
      "source": [
        "import os\n",
        "import datetime\n",
        "import IPython\n",
        "import IPython.display\n",
        "import matplotlib as mpl\n",
        "import matplotlib.pyplot as plt\n",
        "import numpy as np\n",
        "import pandas as pd\n",
        "import seaborn as sns\n",
        "import tensorflow as tf\n",
        "#Downloading the dataset\n",
        "csv_path = tf.keras.utils.get_file(\n",
        "    origin='https://reed.cs.depaul.edu/peterh/Essays/Metro_Interstate_reduced.csv',\n",
        "    fname='Metro_Interstate_reduced.csv',\n",
        "    cache_dir='/content', cache_subdir='sample_data')"
      ]
    },
    {
      "cell_type": "markdown",
      "metadata": {
        "id": "nR8t5zw92c0j"
      },
      "source": [
        "Data Analysis\n",
        "AG - The next few sections are just preparing the data and seeing what we have to work with before I build my model. The first thing I did was drop weather description and weather main since they are strings."
      ]
    },
    {
      "cell_type": "code",
      "execution_count": null,
      "metadata": {
        "colab": {
          "base_uri": "https://localhost:8080/",
          "height": 296
        },
        "id": "Y30sVfVL18lc",
        "outputId": "887ea43c-bb1e-498a-9812-0ce51db4a5ab"
      },
      "outputs": [
        {
          "output_type": "stream",
          "name": "stderr",
          "text": [
            "/usr/local/lib/python3.7/dist-packages/ipykernel_launcher.py:3: FutureWarning: In a future version of pandas all arguments of DataFrame.drop except for the argument 'labels' will be keyword-only\n",
            "  This is separate from the ipykernel package so we can avoid doing imports until\n",
            "/usr/local/lib/python3.7/dist-packages/ipykernel_launcher.py:4: FutureWarning: In a future version of pandas all arguments of DataFrame.drop except for the argument 'labels' will be keyword-only\n",
            "  after removing the cwd from sys.path.\n"
          ]
        },
        {
          "output_type": "execute_result",
          "data": {
            "text/plain": [
              "  holiday    temp  rain_1h  snow_1h  clouds_all            date_time  \\\n",
              "0    None  288.28      0.0      0.0          40  2012-10-02 09:00:00   \n",
              "1    None  289.36      0.0      0.0          75  2012-10-02 10:00:00   \n",
              "2    None  289.58      0.0      0.0          90  2012-10-02 11:00:00   \n",
              "3    None  290.13      0.0      0.0          90  2012-10-02 12:00:00   \n",
              "4    None  291.14      0.0      0.0          75  2012-10-02 13:00:00   \n",
              "\n",
              "   traffic_volume  \n",
              "0            5545  \n",
              "1            4516  \n",
              "2            4767  \n",
              "3            5026  \n",
              "4            4918  "
            ],
            "text/html": [
              "\n",
              "  <div id=\"df-5e308714-b835-4edd-99d4-de1693dd9a65\">\n",
              "    <div class=\"colab-df-container\">\n",
              "      <div>\n",
              "<style scoped>\n",
              "    .dataframe tbody tr th:only-of-type {\n",
              "        vertical-align: middle;\n",
              "    }\n",
              "\n",
              "    .dataframe tbody tr th {\n",
              "        vertical-align: top;\n",
              "    }\n",
              "\n",
              "    .dataframe thead th {\n",
              "        text-align: right;\n",
              "    }\n",
              "</style>\n",
              "<table border=\"1\" class=\"dataframe\">\n",
              "  <thead>\n",
              "    <tr style=\"text-align: right;\">\n",
              "      <th></th>\n",
              "      <th>holiday</th>\n",
              "      <th>temp</th>\n",
              "      <th>rain_1h</th>\n",
              "      <th>snow_1h</th>\n",
              "      <th>clouds_all</th>\n",
              "      <th>date_time</th>\n",
              "      <th>traffic_volume</th>\n",
              "    </tr>\n",
              "  </thead>\n",
              "  <tbody>\n",
              "    <tr>\n",
              "      <th>0</th>\n",
              "      <td>None</td>\n",
              "      <td>288.28</td>\n",
              "      <td>0.0</td>\n",
              "      <td>0.0</td>\n",
              "      <td>40</td>\n",
              "      <td>2012-10-02 09:00:00</td>\n",
              "      <td>5545</td>\n",
              "    </tr>\n",
              "    <tr>\n",
              "      <th>1</th>\n",
              "      <td>None</td>\n",
              "      <td>289.36</td>\n",
              "      <td>0.0</td>\n",
              "      <td>0.0</td>\n",
              "      <td>75</td>\n",
              "      <td>2012-10-02 10:00:00</td>\n",
              "      <td>4516</td>\n",
              "    </tr>\n",
              "    <tr>\n",
              "      <th>2</th>\n",
              "      <td>None</td>\n",
              "      <td>289.58</td>\n",
              "      <td>0.0</td>\n",
              "      <td>0.0</td>\n",
              "      <td>90</td>\n",
              "      <td>2012-10-02 11:00:00</td>\n",
              "      <td>4767</td>\n",
              "    </tr>\n",
              "    <tr>\n",
              "      <th>3</th>\n",
              "      <td>None</td>\n",
              "      <td>290.13</td>\n",
              "      <td>0.0</td>\n",
              "      <td>0.0</td>\n",
              "      <td>90</td>\n",
              "      <td>2012-10-02 12:00:00</td>\n",
              "      <td>5026</td>\n",
              "    </tr>\n",
              "    <tr>\n",
              "      <th>4</th>\n",
              "      <td>None</td>\n",
              "      <td>291.14</td>\n",
              "      <td>0.0</td>\n",
              "      <td>0.0</td>\n",
              "      <td>75</td>\n",
              "      <td>2012-10-02 13:00:00</td>\n",
              "      <td>4918</td>\n",
              "    </tr>\n",
              "  </tbody>\n",
              "</table>\n",
              "</div>\n",
              "      <button class=\"colab-df-convert\" onclick=\"convertToInteractive('df-5e308714-b835-4edd-99d4-de1693dd9a65')\"\n",
              "              title=\"Convert this dataframe to an interactive table.\"\n",
              "              style=\"display:none;\">\n",
              "        \n",
              "  <svg xmlns=\"http://www.w3.org/2000/svg\" height=\"24px\"viewBox=\"0 0 24 24\"\n",
              "       width=\"24px\">\n",
              "    <path d=\"M0 0h24v24H0V0z\" fill=\"none\"/>\n",
              "    <path d=\"M18.56 5.44l.94 2.06.94-2.06 2.06-.94-2.06-.94-.94-2.06-.94 2.06-2.06.94zm-11 1L8.5 8.5l.94-2.06 2.06-.94-2.06-.94L8.5 2.5l-.94 2.06-2.06.94zm10 10l.94 2.06.94-2.06 2.06-.94-2.06-.94-.94-2.06-.94 2.06-2.06.94z\"/><path d=\"M17.41 7.96l-1.37-1.37c-.4-.4-.92-.59-1.43-.59-.52 0-1.04.2-1.43.59L10.3 9.45l-7.72 7.72c-.78.78-.78 2.05 0 2.83L4 21.41c.39.39.9.59 1.41.59.51 0 1.02-.2 1.41-.59l7.78-7.78 2.81-2.81c.8-.78.8-2.07 0-2.86zM5.41 20L4 18.59l7.72-7.72 1.47 1.35L5.41 20z\"/>\n",
              "  </svg>\n",
              "      </button>\n",
              "      \n",
              "  <style>\n",
              "    .colab-df-container {\n",
              "      display:flex;\n",
              "      flex-wrap:wrap;\n",
              "      gap: 12px;\n",
              "    }\n",
              "\n",
              "    .colab-df-convert {\n",
              "      background-color: #E8F0FE;\n",
              "      border: none;\n",
              "      border-radius: 50%;\n",
              "      cursor: pointer;\n",
              "      display: none;\n",
              "      fill: #1967D2;\n",
              "      height: 32px;\n",
              "      padding: 0 0 0 0;\n",
              "      width: 32px;\n",
              "    }\n",
              "\n",
              "    .colab-df-convert:hover {\n",
              "      background-color: #E2EBFA;\n",
              "      box-shadow: 0px 1px 2px rgba(60, 64, 67, 0.3), 0px 1px 3px 1px rgba(60, 64, 67, 0.15);\n",
              "      fill: #174EA6;\n",
              "    }\n",
              "\n",
              "    [theme=dark] .colab-df-convert {\n",
              "      background-color: #3B4455;\n",
              "      fill: #D2E3FC;\n",
              "    }\n",
              "\n",
              "    [theme=dark] .colab-df-convert:hover {\n",
              "      background-color: #434B5C;\n",
              "      box-shadow: 0px 1px 3px 1px rgba(0, 0, 0, 0.15);\n",
              "      filter: drop-shadow(0px 1px 2px rgba(0, 0, 0, 0.3));\n",
              "      fill: #FFFFFF;\n",
              "    }\n",
              "  </style>\n",
              "\n",
              "      <script>\n",
              "        const buttonEl =\n",
              "          document.querySelector('#df-5e308714-b835-4edd-99d4-de1693dd9a65 button.colab-df-convert');\n",
              "        buttonEl.style.display =\n",
              "          google.colab.kernel.accessAllowed ? 'block' : 'none';\n",
              "\n",
              "        async function convertToInteractive(key) {\n",
              "          const element = document.querySelector('#df-5e308714-b835-4edd-99d4-de1693dd9a65');\n",
              "          const dataTable =\n",
              "            await google.colab.kernel.invokeFunction('convertToInteractive',\n",
              "                                                     [key], {});\n",
              "          if (!dataTable) return;\n",
              "\n",
              "          const docLinkHtml = 'Like what you see? Visit the ' +\n",
              "            '<a target=\"_blank\" href=https://colab.research.google.com/notebooks/data_table.ipynb>data table notebook</a>'\n",
              "            + ' to learn more about interactive tables.';\n",
              "          element.innerHTML = '';\n",
              "          dataTable['output_type'] = 'display_data';\n",
              "          await google.colab.output.renderOutput(dataTable, element);\n",
              "          const docLink = document.createElement('div');\n",
              "          docLink.innerHTML = docLinkHtml;\n",
              "          element.appendChild(docLink);\n",
              "        }\n",
              "      </script>\n",
              "    </div>\n",
              "  </div>\n",
              "  "
            ]
          },
          "metadata": {},
          "execution_count": 3
        }
      ],
      "source": [
        "df = pd.read_csv(csv_path)\n",
        "#date_time = pd.to_datetime(df.pop('date_time'), format='%Y.%m.%d %H:%M:%S')\n",
        "df = df.drop('weather_description', 1)\n",
        "df = df.drop('weather_main', 1)\n",
        "df.head()"
      ]
    },
    {
      "cell_type": "markdown",
      "source": [
        "AG- I then converted the holiday feature to a bianary of either a holiday or not a holiday. Holidays are so infrequent I didn't want to do anything more aggressive"
      ],
      "metadata": {
        "id": "5v1FJmN01ecH"
      }
    },
    {
      "cell_type": "code",
      "execution_count": null,
      "metadata": {
        "colab": {
          "base_uri": "https://localhost:8080/",
          "height": 380
        },
        "id": "-VH39vKx2ngl",
        "outputId": "417e729b-0375-42ad-f66b-564fcda317f8"
      },
      "outputs": [
        {
          "output_type": "stream",
          "name": "stderr",
          "text": [
            "/usr/local/lib/python3.7/dist-packages/ipykernel_launcher.py:6: SettingWithCopyWarning: \n",
            "A value is trying to be set on a copy of a slice from a DataFrame\n",
            "\n",
            "See the caveats in the documentation: https://pandas.pydata.org/pandas-docs/stable/user_guide/indexing.html#returning-a-view-versus-a-copy\n",
            "  \n",
            "/usr/local/lib/python3.7/dist-packages/ipykernel_launcher.py:4: SettingWithCopyWarning: \n",
            "A value is trying to be set on a copy of a slice from a DataFrame\n",
            "\n",
            "See the caveats in the documentation: https://pandas.pydata.org/pandas-docs/stable/user_guide/indexing.html#returning-a-view-versus-a-copy\n",
            "  after removing the cwd from sys.path.\n"
          ]
        },
        {
          "output_type": "execute_result",
          "data": {
            "text/plain": [
              "  holiday    temp  rain_1h  snow_1h  clouds_all            date_time  \\\n",
              "0       0  288.28      0.0      0.0          40  2012-10-02 09:00:00   \n",
              "1       0  289.36      0.0      0.0          75  2012-10-02 10:00:00   \n",
              "2       0  289.58      0.0      0.0          90  2012-10-02 11:00:00   \n",
              "3       0  290.13      0.0      0.0          90  2012-10-02 12:00:00   \n",
              "4       0  291.14      0.0      0.0          75  2012-10-02 13:00:00   \n",
              "\n",
              "   traffic_volume  \n",
              "0            5545  \n",
              "1            4516  \n",
              "2            4767  \n",
              "3            5026  \n",
              "4            4918  "
            ],
            "text/html": [
              "\n",
              "  <div id=\"df-e811669d-2e20-44fd-9dfe-81b6d9c66e03\">\n",
              "    <div class=\"colab-df-container\">\n",
              "      <div>\n",
              "<style scoped>\n",
              "    .dataframe tbody tr th:only-of-type {\n",
              "        vertical-align: middle;\n",
              "    }\n",
              "\n",
              "    .dataframe tbody tr th {\n",
              "        vertical-align: top;\n",
              "    }\n",
              "\n",
              "    .dataframe thead th {\n",
              "        text-align: right;\n",
              "    }\n",
              "</style>\n",
              "<table border=\"1\" class=\"dataframe\">\n",
              "  <thead>\n",
              "    <tr style=\"text-align: right;\">\n",
              "      <th></th>\n",
              "      <th>holiday</th>\n",
              "      <th>temp</th>\n",
              "      <th>rain_1h</th>\n",
              "      <th>snow_1h</th>\n",
              "      <th>clouds_all</th>\n",
              "      <th>date_time</th>\n",
              "      <th>traffic_volume</th>\n",
              "    </tr>\n",
              "  </thead>\n",
              "  <tbody>\n",
              "    <tr>\n",
              "      <th>0</th>\n",
              "      <td>0</td>\n",
              "      <td>288.28</td>\n",
              "      <td>0.0</td>\n",
              "      <td>0.0</td>\n",
              "      <td>40</td>\n",
              "      <td>2012-10-02 09:00:00</td>\n",
              "      <td>5545</td>\n",
              "    </tr>\n",
              "    <tr>\n",
              "      <th>1</th>\n",
              "      <td>0</td>\n",
              "      <td>289.36</td>\n",
              "      <td>0.0</td>\n",
              "      <td>0.0</td>\n",
              "      <td>75</td>\n",
              "      <td>2012-10-02 10:00:00</td>\n",
              "      <td>4516</td>\n",
              "    </tr>\n",
              "    <tr>\n",
              "      <th>2</th>\n",
              "      <td>0</td>\n",
              "      <td>289.58</td>\n",
              "      <td>0.0</td>\n",
              "      <td>0.0</td>\n",
              "      <td>90</td>\n",
              "      <td>2012-10-02 11:00:00</td>\n",
              "      <td>4767</td>\n",
              "    </tr>\n",
              "    <tr>\n",
              "      <th>3</th>\n",
              "      <td>0</td>\n",
              "      <td>290.13</td>\n",
              "      <td>0.0</td>\n",
              "      <td>0.0</td>\n",
              "      <td>90</td>\n",
              "      <td>2012-10-02 12:00:00</td>\n",
              "      <td>5026</td>\n",
              "    </tr>\n",
              "    <tr>\n",
              "      <th>4</th>\n",
              "      <td>0</td>\n",
              "      <td>291.14</td>\n",
              "      <td>0.0</td>\n",
              "      <td>0.0</td>\n",
              "      <td>75</td>\n",
              "      <td>2012-10-02 13:00:00</td>\n",
              "      <td>4918</td>\n",
              "    </tr>\n",
              "  </tbody>\n",
              "</table>\n",
              "</div>\n",
              "      <button class=\"colab-df-convert\" onclick=\"convertToInteractive('df-e811669d-2e20-44fd-9dfe-81b6d9c66e03')\"\n",
              "              title=\"Convert this dataframe to an interactive table.\"\n",
              "              style=\"display:none;\">\n",
              "        \n",
              "  <svg xmlns=\"http://www.w3.org/2000/svg\" height=\"24px\"viewBox=\"0 0 24 24\"\n",
              "       width=\"24px\">\n",
              "    <path d=\"M0 0h24v24H0V0z\" fill=\"none\"/>\n",
              "    <path d=\"M18.56 5.44l.94 2.06.94-2.06 2.06-.94-2.06-.94-.94-2.06-.94 2.06-2.06.94zm-11 1L8.5 8.5l.94-2.06 2.06-.94-2.06-.94L8.5 2.5l-.94 2.06-2.06.94zm10 10l.94 2.06.94-2.06 2.06-.94-2.06-.94-.94-2.06-.94 2.06-2.06.94z\"/><path d=\"M17.41 7.96l-1.37-1.37c-.4-.4-.92-.59-1.43-.59-.52 0-1.04.2-1.43.59L10.3 9.45l-7.72 7.72c-.78.78-.78 2.05 0 2.83L4 21.41c.39.39.9.59 1.41.59.51 0 1.02-.2 1.41-.59l7.78-7.78 2.81-2.81c.8-.78.8-2.07 0-2.86zM5.41 20L4 18.59l7.72-7.72 1.47 1.35L5.41 20z\"/>\n",
              "  </svg>\n",
              "      </button>\n",
              "      \n",
              "  <style>\n",
              "    .colab-df-container {\n",
              "      display:flex;\n",
              "      flex-wrap:wrap;\n",
              "      gap: 12px;\n",
              "    }\n",
              "\n",
              "    .colab-df-convert {\n",
              "      background-color: #E8F0FE;\n",
              "      border: none;\n",
              "      border-radius: 50%;\n",
              "      cursor: pointer;\n",
              "      display: none;\n",
              "      fill: #1967D2;\n",
              "      height: 32px;\n",
              "      padding: 0 0 0 0;\n",
              "      width: 32px;\n",
              "    }\n",
              "\n",
              "    .colab-df-convert:hover {\n",
              "      background-color: #E2EBFA;\n",
              "      box-shadow: 0px 1px 2px rgba(60, 64, 67, 0.3), 0px 1px 3px 1px rgba(60, 64, 67, 0.15);\n",
              "      fill: #174EA6;\n",
              "    }\n",
              "\n",
              "    [theme=dark] .colab-df-convert {\n",
              "      background-color: #3B4455;\n",
              "      fill: #D2E3FC;\n",
              "    }\n",
              "\n",
              "    [theme=dark] .colab-df-convert:hover {\n",
              "      background-color: #434B5C;\n",
              "      box-shadow: 0px 1px 3px 1px rgba(0, 0, 0, 0.15);\n",
              "      filter: drop-shadow(0px 1px 2px rgba(0, 0, 0, 0.3));\n",
              "      fill: #FFFFFF;\n",
              "    }\n",
              "  </style>\n",
              "\n",
              "      <script>\n",
              "        const buttonEl =\n",
              "          document.querySelector('#df-e811669d-2e20-44fd-9dfe-81b6d9c66e03 button.colab-df-convert');\n",
              "        buttonEl.style.display =\n",
              "          google.colab.kernel.accessAllowed ? 'block' : 'none';\n",
              "\n",
              "        async function convertToInteractive(key) {\n",
              "          const element = document.querySelector('#df-e811669d-2e20-44fd-9dfe-81b6d9c66e03');\n",
              "          const dataTable =\n",
              "            await google.colab.kernel.invokeFunction('convertToInteractive',\n",
              "                                                     [key], {});\n",
              "          if (!dataTable) return;\n",
              "\n",
              "          const docLinkHtml = 'Like what you see? Visit the ' +\n",
              "            '<a target=\"_blank\" href=https://colab.research.google.com/notebooks/data_table.ipynb>data table notebook</a>'\n",
              "            + ' to learn more about interactive tables.';\n",
              "          element.innerHTML = '';\n",
              "          dataTable['output_type'] = 'display_data';\n",
              "          await google.colab.output.renderOutput(dataTable, element);\n",
              "          const docLink = document.createElement('div');\n",
              "          docLink.innerHTML = docLinkHtml;\n",
              "          element.appendChild(docLink);\n",
              "        }\n",
              "      </script>\n",
              "    </div>\n",
              "  </div>\n",
              "  "
            ]
          },
          "metadata": {},
          "execution_count": 4
        }
      ],
      "source": [
        "#Replacing holiday with a binary, 1 for having a holiday and 0 for not a holiday\n",
        "for i in range(len(df['holiday'])):\n",
        "  if len(df['holiday'][i]) >6:\n",
        "    df['holiday'][i]=1\n",
        "  else:\n",
        "    df['holiday'][i]=0\n",
        "df.head(5)"
      ]
    },
    {
      "cell_type": "code",
      "execution_count": null,
      "metadata": {
        "colab": {
          "base_uri": "https://localhost:8080/",
          "height": 300
        },
        "id": "cd2JHEM4DbDD",
        "outputId": "12ace388-bf47-4698-ab63-c431044d083c"
      },
      "outputs": [
        {
          "output_type": "execute_result",
          "data": {
            "text/plain": [
              "               temp       rain_1h       snow_1h    clouds_all  traffic_volume\n",
              "count  40575.000000  40575.000000  40575.000000  40575.000000    40575.000000\n",
              "mean     281.316763      0.318632      0.000117     44.199162     3290.650474\n",
              "std       13.816618     48.812640      0.005676     38.683447     1984.772909\n",
              "min        0.000000      0.000000      0.000000      0.000000        0.000000\n",
              "25%      271.840000      0.000000      0.000000      1.000000     1248.500000\n",
              "50%      282.860000      0.000000      0.000000     40.000000     3427.000000\n",
              "75%      292.280000      0.000000      0.000000     90.000000     4952.000000\n",
              "max      310.070000   9831.300000      0.510000    100.000000     7280.000000"
            ],
            "text/html": [
              "\n",
              "  <div id=\"df-1402f483-e92b-4220-a35c-289b17abab16\">\n",
              "    <div class=\"colab-df-container\">\n",
              "      <div>\n",
              "<style scoped>\n",
              "    .dataframe tbody tr th:only-of-type {\n",
              "        vertical-align: middle;\n",
              "    }\n",
              "\n",
              "    .dataframe tbody tr th {\n",
              "        vertical-align: top;\n",
              "    }\n",
              "\n",
              "    .dataframe thead th {\n",
              "        text-align: right;\n",
              "    }\n",
              "</style>\n",
              "<table border=\"1\" class=\"dataframe\">\n",
              "  <thead>\n",
              "    <tr style=\"text-align: right;\">\n",
              "      <th></th>\n",
              "      <th>temp</th>\n",
              "      <th>rain_1h</th>\n",
              "      <th>snow_1h</th>\n",
              "      <th>clouds_all</th>\n",
              "      <th>traffic_volume</th>\n",
              "    </tr>\n",
              "  </thead>\n",
              "  <tbody>\n",
              "    <tr>\n",
              "      <th>count</th>\n",
              "      <td>40575.000000</td>\n",
              "      <td>40575.000000</td>\n",
              "      <td>40575.000000</td>\n",
              "      <td>40575.000000</td>\n",
              "      <td>40575.000000</td>\n",
              "    </tr>\n",
              "    <tr>\n",
              "      <th>mean</th>\n",
              "      <td>281.316763</td>\n",
              "      <td>0.318632</td>\n",
              "      <td>0.000117</td>\n",
              "      <td>44.199162</td>\n",
              "      <td>3290.650474</td>\n",
              "    </tr>\n",
              "    <tr>\n",
              "      <th>std</th>\n",
              "      <td>13.816618</td>\n",
              "      <td>48.812640</td>\n",
              "      <td>0.005676</td>\n",
              "      <td>38.683447</td>\n",
              "      <td>1984.772909</td>\n",
              "    </tr>\n",
              "    <tr>\n",
              "      <th>min</th>\n",
              "      <td>0.000000</td>\n",
              "      <td>0.000000</td>\n",
              "      <td>0.000000</td>\n",
              "      <td>0.000000</td>\n",
              "      <td>0.000000</td>\n",
              "    </tr>\n",
              "    <tr>\n",
              "      <th>25%</th>\n",
              "      <td>271.840000</td>\n",
              "      <td>0.000000</td>\n",
              "      <td>0.000000</td>\n",
              "      <td>1.000000</td>\n",
              "      <td>1248.500000</td>\n",
              "    </tr>\n",
              "    <tr>\n",
              "      <th>50%</th>\n",
              "      <td>282.860000</td>\n",
              "      <td>0.000000</td>\n",
              "      <td>0.000000</td>\n",
              "      <td>40.000000</td>\n",
              "      <td>3427.000000</td>\n",
              "    </tr>\n",
              "    <tr>\n",
              "      <th>75%</th>\n",
              "      <td>292.280000</td>\n",
              "      <td>0.000000</td>\n",
              "      <td>0.000000</td>\n",
              "      <td>90.000000</td>\n",
              "      <td>4952.000000</td>\n",
              "    </tr>\n",
              "    <tr>\n",
              "      <th>max</th>\n",
              "      <td>310.070000</td>\n",
              "      <td>9831.300000</td>\n",
              "      <td>0.510000</td>\n",
              "      <td>100.000000</td>\n",
              "      <td>7280.000000</td>\n",
              "    </tr>\n",
              "  </tbody>\n",
              "</table>\n",
              "</div>\n",
              "      <button class=\"colab-df-convert\" onclick=\"convertToInteractive('df-1402f483-e92b-4220-a35c-289b17abab16')\"\n",
              "              title=\"Convert this dataframe to an interactive table.\"\n",
              "              style=\"display:none;\">\n",
              "        \n",
              "  <svg xmlns=\"http://www.w3.org/2000/svg\" height=\"24px\"viewBox=\"0 0 24 24\"\n",
              "       width=\"24px\">\n",
              "    <path d=\"M0 0h24v24H0V0z\" fill=\"none\"/>\n",
              "    <path d=\"M18.56 5.44l.94 2.06.94-2.06 2.06-.94-2.06-.94-.94-2.06-.94 2.06-2.06.94zm-11 1L8.5 8.5l.94-2.06 2.06-.94-2.06-.94L8.5 2.5l-.94 2.06-2.06.94zm10 10l.94 2.06.94-2.06 2.06-.94-2.06-.94-.94-2.06-.94 2.06-2.06.94z\"/><path d=\"M17.41 7.96l-1.37-1.37c-.4-.4-.92-.59-1.43-.59-.52 0-1.04.2-1.43.59L10.3 9.45l-7.72 7.72c-.78.78-.78 2.05 0 2.83L4 21.41c.39.39.9.59 1.41.59.51 0 1.02-.2 1.41-.59l7.78-7.78 2.81-2.81c.8-.78.8-2.07 0-2.86zM5.41 20L4 18.59l7.72-7.72 1.47 1.35L5.41 20z\"/>\n",
              "  </svg>\n",
              "      </button>\n",
              "      \n",
              "  <style>\n",
              "    .colab-df-container {\n",
              "      display:flex;\n",
              "      flex-wrap:wrap;\n",
              "      gap: 12px;\n",
              "    }\n",
              "\n",
              "    .colab-df-convert {\n",
              "      background-color: #E8F0FE;\n",
              "      border: none;\n",
              "      border-radius: 50%;\n",
              "      cursor: pointer;\n",
              "      display: none;\n",
              "      fill: #1967D2;\n",
              "      height: 32px;\n",
              "      padding: 0 0 0 0;\n",
              "      width: 32px;\n",
              "    }\n",
              "\n",
              "    .colab-df-convert:hover {\n",
              "      background-color: #E2EBFA;\n",
              "      box-shadow: 0px 1px 2px rgba(60, 64, 67, 0.3), 0px 1px 3px 1px rgba(60, 64, 67, 0.15);\n",
              "      fill: #174EA6;\n",
              "    }\n",
              "\n",
              "    [theme=dark] .colab-df-convert {\n",
              "      background-color: #3B4455;\n",
              "      fill: #D2E3FC;\n",
              "    }\n",
              "\n",
              "    [theme=dark] .colab-df-convert:hover {\n",
              "      background-color: #434B5C;\n",
              "      box-shadow: 0px 1px 3px 1px rgba(0, 0, 0, 0.15);\n",
              "      filter: drop-shadow(0px 1px 2px rgba(0, 0, 0, 0.3));\n",
              "      fill: #FFFFFF;\n",
              "    }\n",
              "  </style>\n",
              "\n",
              "      <script>\n",
              "        const buttonEl =\n",
              "          document.querySelector('#df-1402f483-e92b-4220-a35c-289b17abab16 button.colab-df-convert');\n",
              "        buttonEl.style.display =\n",
              "          google.colab.kernel.accessAllowed ? 'block' : 'none';\n",
              "\n",
              "        async function convertToInteractive(key) {\n",
              "          const element = document.querySelector('#df-1402f483-e92b-4220-a35c-289b17abab16');\n",
              "          const dataTable =\n",
              "            await google.colab.kernel.invokeFunction('convertToInteractive',\n",
              "                                                     [key], {});\n",
              "          if (!dataTable) return;\n",
              "\n",
              "          const docLinkHtml = 'Like what you see? Visit the ' +\n",
              "            '<a target=\"_blank\" href=https://colab.research.google.com/notebooks/data_table.ipynb>data table notebook</a>'\n",
              "            + ' to learn more about interactive tables.';\n",
              "          element.innerHTML = '';\n",
              "          dataTable['output_type'] = 'display_data';\n",
              "          await google.colab.output.renderOutput(dataTable, element);\n",
              "          const docLink = document.createElement('div');\n",
              "          docLink.innerHTML = docLinkHtml;\n",
              "          element.appendChild(docLink);\n",
              "        }\n",
              "      </script>\n",
              "    </div>\n",
              "  </div>\n",
              "  "
            ]
          },
          "metadata": {},
          "execution_count": 5
        }
      ],
      "source": [
        "df.describe()"
      ]
    },
    {
      "cell_type": "markdown",
      "metadata": {
        "id": "OZ1fbt5LEWFy"
      },
      "source": [
        "AG- I removed the erronius rain data point and erronius temp data point. There is one point that says it rained 10 meters in an hour which doesn't sound possible. Also a temperature of 0 kelvins is not possible so this too was removed"
      ]
    },
    {
      "cell_type": "code",
      "execution_count": null,
      "metadata": {
        "colab": {
          "base_uri": "https://localhost:8080/"
        },
        "id": "hagz13WEDh5K",
        "outputId": "cfd162f5-7334-4050-df7a-4dc493f2cfb6"
      },
      "outputs": [
        {
          "output_type": "stream",
          "name": "stderr",
          "text": [
            "/usr/local/lib/python3.7/dist-packages/ipykernel_launcher.py:3: SettingWithCopyWarning: \n",
            "A value is trying to be set on a copy of a slice from a DataFrame\n",
            "\n",
            "See the caveats in the documentation: https://pandas.pydata.org/pandas-docs/stable/user_guide/indexing.html#returning-a-view-versus-a-copy\n",
            "  This is separate from the ipykernel package so we can avoid doing imports until\n"
          ]
        },
        {
          "output_type": "stream",
          "name": "stdout",
          "text": [
            "55.63\n"
          ]
        },
        {
          "output_type": "stream",
          "name": "stderr",
          "text": [
            "/usr/local/lib/python3.7/dist-packages/ipykernel_launcher.py:7: SettingWithCopyWarning: \n",
            "A value is trying to be set on a copy of a slice from a DataFrame\n",
            "\n",
            "See the caveats in the documentation: https://pandas.pydata.org/pandas-docs/stable/user_guide/indexing.html#returning-a-view-versus-a-copy\n",
            "  import sys\n"
          ]
        },
        {
          "output_type": "stream",
          "name": "stdout",
          "text": [
            "243.39\n"
          ]
        }
      ],
      "source": [
        "for i  in range(len(df.rain_1h)):\n",
        "  if df.rain_1h[i]> 1000:\n",
        "    df.rain_1h[i]=0\n",
        "print(max(df.rain_1h))\n",
        "for i  in range(len(df.temp)):\n",
        "  if df.temp[i]< 100:\n",
        "    df.temp[i]=281\n",
        "print(min(df.temp))"
      ]
    },
    {
      "cell_type": "markdown",
      "metadata": {
        "id": "4mGgtXsMFwgM"
      },
      "source": [
        "AG- Below we are minipulating the time and data the same was as in the example. This is because time is cyclical and we need the end of the day (midnight) to be close to the begining of the new day (1am). This code was taken from the example"
      ]
    },
    {
      "cell_type": "code",
      "execution_count": null,
      "metadata": {
        "id": "NuTKHqwuDG46"
      },
      "outputs": [],
      "source": [
        "date_time = pd.to_datetime(df.pop('date_time'), format='%Y.%m.%d %H:%M:%S')\n",
        "timestamp_s = date_time.map(pd.Timestamp.timestamp)\n",
        "day = 24*60*60\n",
        "year = (365.2425)*day\n",
        "\n",
        "df['Day sin'] = np.sin(timestamp_s * (2 * np.pi / day))\n",
        "df['Day cos'] = np.cos(timestamp_s * (2 * np.pi / day))\n",
        "df['Year sin'] = np.sin(timestamp_s * (2 * np.pi / year))\n",
        "df['Year cos'] = np.cos(timestamp_s * (2 * np.pi / year))"
      ]
    },
    {
      "cell_type": "code",
      "execution_count": null,
      "metadata": {
        "colab": {
          "base_uri": "https://localhost:8080/",
          "height": 312
        },
        "id": "N3XuQioNFhan",
        "outputId": "7d623363-cf4b-490d-c14a-3f2e53c39f32"
      },
      "outputs": [
        {
          "output_type": "execute_result",
          "data": {
            "text/plain": [
              "Text(0.5, 1.0, 'Time of day signal')"
            ]
          },
          "metadata": {},
          "execution_count": 8
        },
        {
          "output_type": "display_data",
          "data": {
            "text/plain": [
              "<Figure size 432x288 with 1 Axes>"
            ],
            "image/png": "[encoded data removed]"
          },
          "metadata": {
            "needs_background": "light"
          }
        }
      ],
      "source": [
        "plt.plot(np.array(df['Day sin'])[25:50])\n",
        "plt.plot(np.array(df['Day cos'])[25:50])\n",
        "plt.xlabel('Time [h]')\n",
        "plt.title('Time of day signal')"
      ]
    },
    {
      "cell_type": "markdown",
      "source": [
        "AG - Below are histograms of the reamining data after I cleaned it up. You'll notice that rain and snow are heavily skewed since it is not precipitating most of the time. I'm not sure why there are spikes at -1 and 1 for the year and day/ cos/sin data but that is something that could be looked into. I would've expected traffic to have a normal or binormal distribution."
      ],
      "metadata": {
        "id": "7H1Xgraa5dmJ"
      }
    },
    {
      "cell_type": "code",
      "execution_count": null,
      "metadata": {
        "colab": {
          "base_uri": "https://localhost:8080/",
          "height": 585
        },
        "id": "df4lqr1I_J6X",
        "outputId": "3b87013a-fc2f-445f-8185-1184a97ec8bc"
      },
      "outputs": [
        {
          "output_type": "display_data",
          "data": {
            "text/plain": [
              "<Figure size 1008x576 with 9 Axes>"
            ],
            "image/png": "[encoded data removed]"
          },
          "metadata": {
            "needs_background": "light"
          }
        }
      ],
      "source": [
        "df_cols = df.select_dtypes(exclude='object').columns\n",
        "fig = plt.figure( figsize=(14,8))\n",
        "for i, col in enumerate(df_cols):\n",
        "    ax=fig.add_subplot(rows,cols,i+1)   \n",
        "    sns.histplot(x = df[col], ax = ax)\n",
        "fig.tight_layout()  \n",
        "plt.show()"
      ]
    },
    {
      "cell_type": "markdown",
      "metadata": {
        "id": "VKXD4JFvHdAt"
      },
      "source": [
        "AG-Splitting and normalizing the data into testing and training data, taken from the example. I added the indexs so we had 5000 in the test set though."
      ]
    },
    {
      "cell_type": "code",
      "execution_count": null,
      "metadata": {
        "id": "yZJsd8USFhdj"
      },
      "outputs": [],
      "source": [
        "column_indices = {name: i for i, name in enumerate(df.columns)}\n",
        "\n",
        "n = len(df)\n",
        "train_df = df[0:int(n*0.7)]\n",
        "val_df = df[int(n*0.7):35575]\n",
        "test_df = df[35575:]\n",
        "\n",
        "num_features = df.shape[1]\n",
        "train_mean = train_df.mean()\n",
        "train_std = train_df.std()\n",
        "\n",
        "train_df = (train_df - train_mean) / train_std\n",
        "val_df = (val_df - train_mean) / train_std\n",
        "test_df = (test_df - train_mean) / train_std"
      ]
    },
    {
      "cell_type": "code",
      "execution_count": null,
      "metadata": {
        "colab": {
          "base_uri": "https://localhost:8080/",
          "height": 258
        },
        "id": "3CeXGVLw9OPg",
        "outputId": "341af872-3a60-462b-d70b-dd29ff986d3c"
      },
      "outputs": [
        {
          "output_type": "stream",
          "name": "stdout",
          "text": [
            "(28402, 10)\n",
            "(7173, 10)\n",
            "(5000, 10)\n"
          ]
        },
        {
          "output_type": "execute_result",
          "data": {
            "text/plain": [
              "        holiday      temp   rain_1h   snow_1h  clouds_all  traffic_volume  \\\n",
              "35575 -0.036602 -0.686063 -0.104652 -0.024705    1.148524       -1.339931   \n",
              "35576 -0.036602 -0.680655 -0.104652 -0.024705    1.148524       -1.486210   \n",
              "35577 -0.036602 -0.680655 -0.104652 -0.024705    1.148524       -1.519386   \n",
              "35578 -0.036602 -0.686063 -0.104652 -0.024705    1.148524       -1.524915   \n",
              "35579 -0.036602 -0.692243 -0.104652 -0.024705    1.148524       -1.472637   \n",
              "\n",
              "        Day sin   Day cos  Year sin  Year cos  \n",
              "35575 -0.364483  1.351576  1.214907  0.590054  \n",
              "35576  0.002393  1.399654  1.215364  0.589152  \n",
              "35577  0.369269  1.351576  1.215821  0.588251  \n",
              "35578  0.711143  1.210617  1.216278  0.587349  \n",
              "35579  1.004717  0.986384  1.216733  0.586447  "
            ],
            "text/html": [
              "\n",
              "  <div id=\"df-364a98b7-4a39-4db3-b2b3-baa07ad3ed1e\">\n",
              "    <div class=\"colab-df-container\">\n",
              "      <div>\n",
              "<style scoped>\n",
              "    .dataframe tbody tr th:only-of-type {\n",
              "        vertical-align: middle;\n",
              "    }\n",
              "\n",
              "    .dataframe tbody tr th {\n",
              "        vertical-align: top;\n",
              "    }\n",
              "\n",
              "    .dataframe thead th {\n",
              "        text-align: right;\n",
              "    }\n",
              "</style>\n",
              "<table border=\"1\" class=\"dataframe\">\n",
              "  <thead>\n",
              "    <tr style=\"text-align: right;\">\n",
              "      <th></th>\n",
              "      <th>holiday</th>\n",
              "      <th>temp</th>\n",
              "      <th>rain_1h</th>\n",
              "      <th>snow_1h</th>\n",
              "      <th>clouds_all</th>\n",
              "      <th>traffic_volume</th>\n",
              "      <th>Day sin</th>\n",
              "      <th>Day cos</th>\n",
              "      <th>Year sin</th>\n",
              "      <th>Year cos</th>\n",
              "    </tr>\n",
              "  </thead>\n",
              "  <tbody>\n",
              "    <tr>\n",
              "      <th>35575</th>\n",
              "      <td>-0.036602</td>\n",
              "      <td>-0.686063</td>\n",
              "      <td>-0.104652</td>\n",
              "      <td>-0.024705</td>\n",
              "      <td>1.148524</td>\n",
              "      <td>-1.339931</td>\n",
              "      <td>-0.364483</td>\n",
              "      <td>1.351576</td>\n",
              "      <td>1.214907</td>\n",
              "      <td>0.590054</td>\n",
              "    </tr>\n",
              "    <tr>\n",
              "      <th>35576</th>\n",
              "      <td>-0.036602</td>\n",
              "      <td>-0.680655</td>\n",
              "      <td>-0.104652</td>\n",
              "      <td>-0.024705</td>\n",
              "      <td>1.148524</td>\n",
              "      <td>-1.486210</td>\n",
              "      <td>0.002393</td>\n",
              "      <td>1.399654</td>\n",
              "      <td>1.215364</td>\n",
              "      <td>0.589152</td>\n",
              "    </tr>\n",
              "    <tr>\n",
              "      <th>35577</th>\n",
              "      <td>-0.036602</td>\n",
              "      <td>-0.680655</td>\n",
              "      <td>-0.104652</td>\n",
              "      <td>-0.024705</td>\n",
              "      <td>1.148524</td>\n",
              "      <td>-1.519386</td>\n",
              "      <td>0.369269</td>\n",
              "      <td>1.351576</td>\n",
              "      <td>1.215821</td>\n",
              "      <td>0.588251</td>\n",
              "    </tr>\n",
              "    <tr>\n",
              "      <th>35578</th>\n",
              "      <td>-0.036602</td>\n",
              "      <td>-0.686063</td>\n",
              "      <td>-0.104652</td>\n",
              "      <td>-0.024705</td>\n",
              "      <td>1.148524</td>\n",
              "      <td>-1.524915</td>\n",
              "      <td>0.711143</td>\n",
              "      <td>1.210617</td>\n",
              "      <td>1.216278</td>\n",
              "      <td>0.587349</td>\n",
              "    </tr>\n",
              "    <tr>\n",
              "      <th>35579</th>\n",
              "      <td>-0.036602</td>\n",
              "      <td>-0.692243</td>\n",
              "      <td>-0.104652</td>\n",
              "      <td>-0.024705</td>\n",
              "      <td>1.148524</td>\n",
              "      <td>-1.472637</td>\n",
              "      <td>1.004717</td>\n",
              "      <td>0.986384</td>\n",
              "      <td>1.216733</td>\n",
              "      <td>0.586447</td>\n",
              "    </tr>\n",
              "  </tbody>\n",
              "</table>\n",
              "</div>\n",
              "      <button class=\"colab-df-convert\" onclick=\"convertToInteractive('df-364a98b7-4a39-4db3-b2b3-baa07ad3ed1e')\"\n",
              "              title=\"Convert this dataframe to an interactive table.\"\n",
              "              style=\"display:none;\">\n",
              "        \n",
              "  <svg xmlns=\"http://www.w3.org/2000/svg\" height=\"24px\"viewBox=\"0 0 24 24\"\n",
              "       width=\"24px\">\n",
              "    <path d=\"M0 0h24v24H0V0z\" fill=\"none\"/>\n",
              "    <path d=\"M18.56 5.44l.94 2.06.94-2.06 2.06-.94-2.06-.94-.94-2.06-.94 2.06-2.06.94zm-11 1L8.5 8.5l.94-2.06 2.06-.94-2.06-.94L8.5 2.5l-.94 2.06-2.06.94zm10 10l.94 2.06.94-2.06 2.06-.94-2.06-.94-.94-2.06-.94 2.06-2.06.94z\"/><path d=\"M17.41 7.96l-1.37-1.37c-.4-.4-.92-.59-1.43-.59-.52 0-1.04.2-1.43.59L10.3 9.45l-7.72 7.72c-.78.78-.78 2.05 0 2.83L4 21.41c.39.39.9.59 1.41.59.51 0 1.02-.2 1.41-.59l7.78-7.78 2.81-2.81c.8-.78.8-2.07 0-2.86zM5.41 20L4 18.59l7.72-7.72 1.47 1.35L5.41 20z\"/>\n",
              "  </svg>\n",
              "      </button>\n",
              "      \n",
              "  <style>\n",
              "    .colab-df-container {\n",
              "      display:flex;\n",
              "      flex-wrap:wrap;\n",
              "      gap: 12px;\n",
              "    }\n",
              "\n",
              "    .colab-df-convert {\n",
              "      background-color: #E8F0FE;\n",
              "      border: none;\n",
              "      border-radius: 50%;\n",
              "      cursor: pointer;\n",
              "      display: none;\n",
              "      fill: #1967D2;\n",
              "      height: 32px;\n",
              "      padding: 0 0 0 0;\n",
              "      width: 32px;\n",
              "    }\n",
              "\n",
              "    .colab-df-convert:hover {\n",
              "      background-color: #E2EBFA;\n",
              "      box-shadow: 0px 1px 2px rgba(60, 64, 67, 0.3), 0px 1px 3px 1px rgba(60, 64, 67, 0.15);\n",
              "      fill: #174EA6;\n",
              "    }\n",
              "\n",
              "    [theme=dark] .colab-df-convert {\n",
              "      background-color: #3B4455;\n",
              "      fill: #D2E3FC;\n",
              "    }\n",
              "\n",
              "    [theme=dark] .colab-df-convert:hover {\n",
              "      background-color: #434B5C;\n",
              "      box-shadow: 0px 1px 3px 1px rgba(0, 0, 0, 0.15);\n",
              "      filter: drop-shadow(0px 1px 2px rgba(0, 0, 0, 0.3));\n",
              "      fill: #FFFFFF;\n",
              "    }\n",
              "  </style>\n",
              "\n",
              "      <script>\n",
              "        const buttonEl =\n",
              "          document.querySelector('#df-364a98b7-4a39-4db3-b2b3-baa07ad3ed1e button.colab-df-convert');\n",
              "        buttonEl.style.display =\n",
              "          google.colab.kernel.accessAllowed ? 'block' : 'none';\n",
              "\n",
              "        async function convertToInteractive(key) {\n",
              "          const element = document.querySelector('#df-364a98b7-4a39-4db3-b2b3-baa07ad3ed1e');\n",
              "          const dataTable =\n",
              "            await google.colab.kernel.invokeFunction('convertToInteractive',\n",
              "                                                     [key], {});\n",
              "          if (!dataTable) return;\n",
              "\n",
              "          const docLinkHtml = 'Like what you see? Visit the ' +\n",
              "            '<a target=\"_blank\" href=https://colab.research.google.com/notebooks/data_table.ipynb>data table notebook</a>'\n",
              "            + ' to learn more about interactive tables.';\n",
              "          element.innerHTML = '';\n",
              "          dataTable['output_type'] = 'display_data';\n",
              "          await google.colab.output.renderOutput(dataTable, element);\n",
              "          const docLink = document.createElement('div');\n",
              "          docLink.innerHTML = docLinkHtml;\n",
              "          element.appendChild(docLink);\n",
              "        }\n",
              "      </script>\n",
              "    </div>\n",
              "  </div>\n",
              "  "
            ]
          },
          "metadata": {},
          "execution_count": 73
        }
      ],
      "source": [
        "#Verificatinon of sample set sizes and standardization\n",
        "print(train_df.shape)\n",
        "print(val_df.shape)\n",
        "print(test_df.shape)\n",
        "test_df.head()"
      ]
    },
    {
      "cell_type": "markdown",
      "metadata": {
        "id": "BtryFG7SMBFt"
      },
      "source": [
        "AG - This Function creates a window so that we can use a moving window for inputs and target data. This is from the example"
      ]
    },
    {
      "cell_type": "code",
      "execution_count": null,
      "metadata": {
        "id": "0T_BUK2GLqA7"
      },
      "outputs": [],
      "source": [
        "class WindowGenerator():\n",
        "  def __init__(self, input_width, label_width, shift,\n",
        "               train_df=train_df, val_df=val_df, test_df=test_df,\n",
        "               label_columns=\"traffic_volume\"):\n",
        "    # Store the raw data.\n",
        "    self.train_df = train_df\n",
        "    self.val_df = val_df\n",
        "    self.test_df = test_df\n",
        "\n",
        "    # Work out the label column indices.\n",
        "    self.label_columns = label_columns\n",
        "    if label_columns is not None:\n",
        "      self.label_columns_indices = {name: i for i, name in\n",
        "                                    enumerate(label_columns)}\n",
        "    self.column_indices = {name: i for i, name in\n",
        "                           enumerate(train_df.columns)}\n",
        "\n",
        "    # Work out the window parameters.\n",
        "    self.input_width = input_width\n",
        "    self.label_width = label_width\n",
        "    self.shift = shift\n",
        "\n",
        "    self.total_window_size = input_width + shift\n",
        "\n",
        "    self.input_slice = slice(0, input_width)\n",
        "    self.input_indices = np.arange(self.total_window_size)[self.input_slice]\n",
        "\n",
        "    self.label_start = self.total_window_size - self.label_width\n",
        "    self.labels_slice = slice(self.label_start, None)\n",
        "    self.label_indices = np.arange(self.total_window_size)[self.labels_slice]\n",
        "\n",
        "  def __repr__(self):\n",
        "    return '\\n'.join([\n",
        "        f'Total window size: {self.total_window_size}',\n",
        "        f'Input indices: {self.input_indices}',\n",
        "        f'Label indices: {self.label_indices}',\n",
        "        f'Label column name(s): {self.label_columns}'])"
      ]
    },
    {
      "cell_type": "markdown",
      "metadata": {
        "id": "7FWd85HVNebO"
      },
      "source": [
        "AG - Ploting the Results, from the example"
      ]
    },
    {
      "cell_type": "code",
      "execution_count": null,
      "metadata": {
        "id": "wmJUsh-3MbKj"
      },
      "outputs": [],
      "source": [
        "def plot(self, model=None, plot_col='traffic_volume', max_subplots=3):\n",
        "  inputs, labels = self.example\n",
        "  plt.figure(figsize=(12, 8))\n",
        "  plot_col_index = self.column_indices[plot_col]\n",
        "  max_n = min(max_subplots, len(inputs))\n",
        "  for n in range(max_n):\n",
        "    plt.subplot(max_n, 1, n+1)\n",
        "    plt.ylabel(f'{plot_col} [normed]')\n",
        "    plt.plot(self.input_indices, inputs[n, :, plot_col_index],\n",
        "             label='Inputs', marker='.', zorder=-10)\n",
        "\n",
        "    if self.label_columns:\n",
        "      label_col_index = self.label_columns_indices.get(plot_col, None)\n",
        "    else:\n",
        "      label_col_index = plot_col_index\n",
        "\n",
        "    if label_col_index is None:\n",
        "      continue\n",
        "\n",
        "    plt.scatter(self.label_indices, labels[n, :, label_col_index],\n",
        "                edgecolors='k', label='Labels', c='#2ca02c', s=64)\n",
        "    if model is not None:\n",
        "      predictions = model(inputs)\n",
        "      plt.scatter(self.label_indices, predictions[n, :, label_col_index],\n",
        "                  marker='X', edgecolors='k', label='Predictions',\n",
        "                  c='#ff7f0e', s=64)\n",
        "\n",
        "    if n == 0:\n",
        "      plt.legend()\n",
        "\n",
        "  plt.xlabel('Time [h]')\n",
        "\n",
        "WindowGenerator.plot = plot"
      ]
    },
    {
      "cell_type": "markdown",
      "metadata": {
        "id": "cyRU0HKtNH4V"
      },
      "source": [
        "AG - Split window function from the example. This is so the data can be fed into the model with the appropriate slices for each timepoint"
      ]
    },
    {
      "cell_type": "code",
      "execution_count": null,
      "metadata": {
        "id": "DSlHgkYLMbDx"
      },
      "outputs": [],
      "source": [
        "def split_window(self, features):\n",
        "  inputs = features[:, self.input_slice, :]\n",
        "  labels = features[:, self.labels_slice, :]\n",
        "  if self.label_columns is not None:\n",
        "    labels = tf.stack(\n",
        "        [labels[:, :, self.column_indices[name]] for name in self.label_columns],\n",
        "        axis=-1)\n",
        "\n",
        "  # Slicing doesn't preserve static shape information, so set the shapes\n",
        "  # manually. This way the `tf.data.Datasets` are easier to inspect.\n",
        "  inputs.set_shape([None, self.input_width, None])\n",
        "  labels.set_shape([None, self.label_width, None])\n",
        "\n",
        "  return inputs, labels\n",
        "\n",
        "WindowGenerator.split_window = split_window"
      ]
    },
    {
      "cell_type": "markdown",
      "source": [
        "AG - Making the Dataset. Taken from example.Turned shuffle off. It took me a long time to figure out that was causing me issues. This turns our data into a 3d object that keras can recognize and work with."
      ],
      "metadata": {
        "id": "kgEYOenYaUfV"
      }
    },
    {
      "cell_type": "code",
      "execution_count": null,
      "metadata": {
        "id": "JvhBw1trMbNJ"
      },
      "outputs": [],
      "source": [
        "def make_dataset(self, data):\n",
        "  data = np.array(data, dtype=np.float32)\n",
        "  ds = tf.keras.utils.timeseries_dataset_from_array(\n",
        "      data=data,\n",
        "      targets=None,\n",
        "      sequence_length=self.total_window_size,\n",
        "      sequence_stride=1,\n",
        "      shuffle=False,\n",
        "      batch_size=30,)\n",
        "  ds = ds.map(self.split_window)\n",
        "  return ds\n",
        "\n",
        "WindowGenerator.make_dataset = make_dataset\n",
        "WindowGenerator.make_dataset = make_dataset\n",
        "@property\n",
        "def train(self):\n",
        "  return self.make_dataset(self.train_df)\n",
        "\n",
        "@property\n",
        "def val(self):\n",
        "  return self.make_dataset(self.val_df)\n",
        "\n",
        "@property\n",
        "def test(self):\n",
        "  return self.make_dataset(self.test_df)\n",
        "\n",
        "@property\n",
        "def example(self):\n",
        "  \"\"\"Get and cache an example batch of `inputs, labels` for plotting.\"\"\"\n",
        "  result = getattr(self, '_example', None)\n",
        "  if result is None:\n",
        "    # No example batch was found, so get one from the `.train` dataset\n",
        "    result = next(iter(self.train))\n",
        "    # And cache it for next time\n",
        "    self._example = result\n",
        "  return result\n",
        "  \n",
        "WindowGenerator.train = train\n",
        "WindowGenerator.val = val\n",
        "WindowGenerator.test = test\n",
        "WindowGenerator.example = example"
      ]
    },
    {
      "cell_type": "markdown",
      "metadata": {
        "id": "eJtuAKJOQJc4"
      },
      "source": [
        "Finally the RNN Modeling Begins"
      ]
    },
    {
      "cell_type": "code",
      "execution_count": null,
      "metadata": {
        "colab": {
          "base_uri": "https://localhost:8080/",
          "height": 497
        },
        "id": "CIXa42UVKAwf",
        "outputId": "ee5af7d2-7447-4a2a-d197-6ab14cfc47d3"
      },
      "outputs": [
        {
          "output_type": "display_data",
          "data": {
            "text/plain": [
              "<Figure size 864x576 with 3 Axes>"
            ],
            "image/png": "[encoded data removed]"
          },
          "metadata": {
            "needs_background": "light"
          }
        }
      ],
      "source": [
        "#Showing that my window size is working correctly\n",
        "RNNwindow.plot()"
      ]
    },
    {
      "cell_type": "markdown",
      "source": [
        "AG - I stole this error plot from my last homework to track the models learning via mean absolute error."
      ],
      "metadata": {
        "id": "sXtirnXl6-Bq"
      }
    },
    {
      "cell_type": "code",
      "source": [
        "#Error Plot to plot model learning\n",
        "def errorPlt():\n",
        "  plt.plot(history.history['mean_absolute_error'], label='training accuracy')\n",
        "  plt.plot(history.history['val_mean_absolute_error'], label = 'valid. accuracy')\n",
        "  plt.xlabel('Epoch')\n",
        "  plt.ylabel('Mean Absolute Error')\n",
        "  plt.ylim([0.0, 1])\n",
        "  plt.legend(loc='upper right')\n"
      ],
      "metadata": {
        "id": "2y9KYKm8ns1v"
      },
      "execution_count": null,
      "outputs": []
    },
    {
      "cell_type": "code",
      "execution_count": null,
      "metadata": {
        "id": "bj0st1diQXaU"
      },
      "outputs": [],
      "source": [
        "MAX_EPOCHS = 100\n",
        "def compile_and_fit(model, window, patience=4):\n",
        "  early_stopping = tf.keras.callbacks.EarlyStopping(monitor='val_loss',\n",
        "                                                    patience=patience,\n",
        "                                                    mode='min')\n",
        "  model.compile(loss=tf.losses.MeanSquaredError(),\n",
        "                optimizer=tf.optimizers.Adam(),\n",
        "                metrics=['MeanAbsoluteError'])\n",
        "  \n",
        "  history = model.fit(window.train, epochs=MAX_EPOCHS,\n",
        "                      validation_data=window.val,\n",
        "                      callbacks=[early_stopping])\n",
        "  return history\n",
        "val_performance = {}"
      ]
    },
    {
      "cell_type": "markdown",
      "source": [
        "AG - This was my baseline model. It is just a CNN like we have used previously but I wanted to use it as my baseline since I understood how it works better. I did not try to optimize this as the goal was a RNN not a CNN. This model had a mean absolute error of 0.155 and a loss of 0.049."
      ],
      "metadata": {
        "id": "bIcV1Tha7PkS"
      }
    },
    {
      "cell_type": "code",
      "source": [
        "#Baseline CNN model\n",
        "CONV_WIDTH = 5\n",
        "conv_window = WindowGenerator(\n",
        "    input_width=CONV_WIDTH,\n",
        "    label_width=1,\n",
        "    shift=2,\n",
        "    label_columns=['traffic_volume'])\n",
        "multi_step_dense = tf.keras.Sequential([\n",
        "    # Shape: (time, features) => (time*features)\n",
        "    tf.keras.layers.Flatten(),\n",
        "    tf.keras.layers.Dense(units=32, activation='relu'),\n",
        "    tf.keras.layers.Dense(units=32, activation='relu'),\n",
        "    tf.keras.layers.Dense(units=1),\n",
        "    # Add back the time dimension.\n",
        "    # Shape: (outputs) => (1, outputs)\n",
        "    tf.keras.layers.Reshape([1, -1]),\n",
        "])\n",
        "history = compile_and_fit(multi_step_dense, conv_window)\n",
        "IPython.display.clear_output()\n",
        "multi_step_dense.evaluate(RNNwindow.test)\n",
        "conv_window.plot(multi_step_dense)\n"
      ],
      "metadata": {
        "colab": {
          "base_uri": "https://localhost:8080/",
          "height": 514
        },
        "id": "p-HUXkPbtV7k",
        "outputId": "758523af-684b-43b0-af8d-d30de8d8ac25"
      },
      "execution_count": null,
      "outputs": [
        {
          "output_type": "stream",
          "name": "stdout",
          "text": [
            "167/167 [==============================] - 1s 4ms/step - loss: 0.0492 - mean_absolute_error: 0.1549\n"
          ]
        },
        {
          "output_type": "display_data",
          "data": {
            "text/plain": [
              "<Figure size 864x576 with 3 Axes>"
            ],
            "image/png": "[encoded data removed]"
          },
          "metadata": {
            "needs_background": "light"
          }
        }
      ]
    },
    {
      "cell_type": "markdown",
      "source": [
        "AG - After I showed that I could get a working model with the correct output report I made this baseline RNN model. It is taken from the example with no frills or optimizations. The MAE was 0.135 and the loss was 0.039"
      ],
      "metadata": {
        "id": "-rCde9HW72So"
      }
    },
    {
      "cell_type": "code",
      "execution_count": null,
      "metadata": {
        "colab": {
          "base_uri": "https://localhost:8080/"
        },
        "id": "mym2xeQPMboA",
        "outputId": "372e7e85-ec23-439f-d8ea-485052db160b"
      },
      "outputs": [
        {
          "output_type": "stream",
          "name": "stdout",
          "text": [
            "167/167 [==============================] - 1s 4ms/step - loss: 0.0388 - mean_absolute_error: 0.1345\n"
          ]
        },
        {
          "output_type": "execute_result",
          "data": {
            "text/plain": [
              "[0.03881625831127167, 0.13446037471294403]"
            ]
          },
          "metadata": {},
          "execution_count": 378
        }
      ],
      "source": [
        "#RNN Base Model\n",
        "RNNwindow = WindowGenerator(\n",
        "    input_width=5, label_width=1, shift=2, label_columns=['traffic_volume'])\n",
        "\n",
        "lstm_model = tf.keras.models.Sequential([\n",
        "    tf.keras.layers.LSTM(200, return_sequences=False),\n",
        "    tf.keras.layers.Dense(units=num_features)\n",
        "])\n",
        "history = compile_and_fit(lstm_model, RNNwindow)\n",
        "IPython.display.clear_output()\n",
        "lstm_model.evaluate(RNNwindow.test)\n"
      ]
    },
    {
      "cell_type": "code",
      "source": [
        "errorPlt()"
      ],
      "metadata": {
        "colab": {
          "base_uri": "https://localhost:8080/",
          "height": 283
        },
        "id": "7O2sop1Drf8K",
        "outputId": "e2314706-39e7-439d-b30b-2fab9e5f7887"
      },
      "execution_count": null,
      "outputs": [
        {
          "output_type": "display_data",
          "data": {
            "text/plain": [
              "<Figure size 432x288 with 1 Axes>"
            ],
            "image/png": "[encoded data removed]"
          },
          "metadata": {
            "needs_background": "light"
          }
        }
      ]
    },
    {
      "cell_type": "markdown",
      "source": [
        "AG - The first real improvement I made was adding more LSTM layers and adding dropout. I found that adding dropout helped a lot with the last homework. I originally had less units but it was training too slow. MAE=0.131 Loss= 0.036"
      ],
      "metadata": {
        "id": "47pNGpI27-6t"
      }
    },
    {
      "cell_type": "code",
      "source": [
        "#RNN Upgrade 1 \n",
        "RNNwindow = WindowGenerator(\n",
        "    input_width=5, label_width=1, shift=2, label_columns=['traffic_volume'])\n",
        "\n",
        "lstm_model1 = tf.keras.models.Sequential([\n",
        "    tf.keras.layers.LSTM(150, return_sequences=True),\n",
        "    tf.keras.layers.Dropout(0.5),\n",
        "    tf.keras.layers.LSTM(150, return_sequences=True),\n",
        "    tf.keras.layers.Dropout(0.5),\n",
        "    tf.keras.layers.LSTM(150, return_sequences=False),\n",
        "    tf.keras.layers.Dropout(0.4),\n",
        "    tf.keras.layers.Dense(units=num_features)\n",
        "])\n",
        "history = compile_and_fit(lstm_model1, RNNwindow)\n",
        "IPython.display.clear_output()\n",
        "lstm_model1.evaluate(RNNwindow.test)\n",
        "errorPlt()"
      ],
      "metadata": {
        "colab": {
          "base_uri": "https://localhost:8080/",
          "height": 300
        },
        "id": "TFPbiEwMm9xL",
        "outputId": "c9846633-f7ad-45b5-c456-8929be0ca596"
      },
      "execution_count": null,
      "outputs": [
        {
          "output_type": "stream",
          "name": "stdout",
          "text": [
            "167/167 [==============================] - 1s 5ms/step - loss: 0.0358 - mean_absolute_error: 0.1307\n"
          ]
        },
        {
          "output_type": "display_data",
          "data": {
            "text/plain": [
              "<Figure size 432x288 with 1 Axes>"
            ],
            "image/png": "[encoded data removed]"
          },
          "metadata": {
            "needs_background": "light"
          }
        }
      ]
    },
    {
      "cell_type": "code",
      "source": [
        "valid_loss, valid_acc = lstm_model1.evaluate(RNNwindow.test, verbose=2) \n",
        "print (\"valid_accuracy=%s, valid_loss=%s\" % (valid_acc, valid_loss))"
      ],
      "metadata": {
        "colab": {
          "base_uri": "https://localhost:8080/"
        },
        "id": "xgRvJ1urgLlb",
        "outputId": "1c94a222-99f3-4116-b730-1984b2c6d452"
      },
      "execution_count": null,
      "outputs": [
        {
          "output_type": "stream",
          "name": "stdout",
          "text": [
            "167/167 - 1s - loss: 0.0322 - mean_absolute_error: 0.1198 - 787ms/epoch - 5ms/step\n",
            "valid_accuracy=0.11977901309728622, valid_loss=0.032199058681726456\n"
          ]
        }
      ]
    },
    {
      "cell_type": "markdown",
      "source": [
        "AG - I tried a bunch to introduce some GRU functionality but it made the model worse. I also had some issues getting the inputs for the GRU to be the correct shape/size. I would've expected to the addition to do better since it does a better job of controlling what information gets passed on. MAE= 0.179 Loss= 0.070"
      ],
      "metadata": {
        "id": "6fS3W5wz8fnD"
      }
    },
    {
      "cell_type": "code",
      "source": [
        "#RNN Model 2 \n",
        "RNNwindow = WindowGenerator(\n",
        "    input_width=5, label_width=1, shift=2, label_columns=['traffic_volume'])\n",
        "\n",
        "lstm_model2 = tf.keras.models.Sequential([\n",
        "    tf.keras.layers.LSTM(75, return_sequences=True),\n",
        "    tf.keras.layers.Dropout(0.5),\n",
        "    tf.keras.layers.LSTM(75, return_sequences=True),\n",
        "    tf.keras.layers.Dropout(0.5),\n",
        "    tf.keras.layers.GRU(75,activation='tanh', return_sequences=True),\n",
        "    tf.keras.layers.Dropout(0.5),\n",
        "    tf.keras.layers.Dense(units=num_features)\n",
        "])\n",
        "history = compile_and_fit(lstm_model2, RNNwindow)\n",
        "IPython.display.clear_output()\n",
        "lstm_model2.evaluate(RNNwindow.test)\n",
        "errorPlt()"
      ],
      "metadata": {
        "colab": {
          "base_uri": "https://localhost:8080/",
          "height": 300
        },
        "id": "gfc98fK5hKpp",
        "outputId": "318762fd-361f-4204-ba66-5c640ceddab9"
      },
      "execution_count": null,
      "outputs": [
        {
          "output_type": "stream",
          "name": "stdout",
          "text": [
            "167/167 [==============================] - 1s 5ms/step - loss: 0.0696 - mean_absolute_error: 0.1787\n"
          ]
        },
        {
          "output_type": "display_data",
          "data": {
            "text/plain": [
              "<Figure size 432x288 with 1 Axes>"
            ],
            "image/png": "[encoded data removed]"
          },
          "metadata": {
            "needs_background": "light"
          }
        }
      ]
    },
    {
      "cell_type": "markdown",
      "source": [
        "AG - My final model is similar to my first upgraded model with multiple LSTM layers with dropout. For this final model I experimented with units size extensivly. I found that learning was much slower but stady when the unit size was low. I also found that when the unit size was high my model would end early since it was so slow at learning. I ended up choosing 150 since it was faster but having a slightly lower number could be beneficial if epochs were increased.\n",
        "MAE = 0.118 Loss = 0.030"
      ],
      "metadata": {
        "id": "NVYD_I9K97hi"
      }
    },
    {
      "cell_type": "code",
      "source": [
        "#Final Model\n",
        "RNNwindow = WindowGenerator(\n",
        "    input_width=5, label_width=1, shift=2, label_columns=['traffic_volume'])\n",
        "\n",
        "lstm_model2 = tf.keras.models.Sequential([\n",
        "    tf.keras.layers.LSTM(150, return_sequences=True),\n",
        "    tf.keras.layers.Dropout(0.5),\n",
        "    tf.keras.layers.LSTM(150, return_sequences=True),\n",
        "    tf.keras.layers.Dropout(0.5),\n",
        "    tf.keras.layers.LSTM(150, return_sequences=False),\n",
        "    tf.keras.layers.Dropout(0.5),\n",
        "    tf.keras.layers.Dense(units=num_features)\n",
        "])\n",
        "history = compile_and_fit(lstm_model2, RNNwindow)\n",
        "IPython.display.clear_output()\n",
        "lstm_model2.evaluate(RNNwindow.test)\n",
        "errorPlt()"
      ],
      "metadata": {
        "colab": {
          "base_uri": "https://localhost:8080/",
          "height": 300
        },
        "id": "N0vZyfZWhZRc",
        "outputId": "99bcab28-a312-496b-ba20-1e20bf7d71e9"
      },
      "execution_count": null,
      "outputs": [
        {
          "output_type": "stream",
          "name": "stdout",
          "text": [
            "167/167 [==============================] - 1s 6ms/step - loss: 0.0300 - mean_absolute_error: 0.1179\n"
          ]
        },
        {
          "output_type": "display_data",
          "data": {
            "text/plain": [
              "<Figure size 432x288 with 1 Axes>"
            ],
            "image/png": "[encoded data removed]"
          },
          "metadata": {
            "needs_background": "light"
          }
        }
      ]
    },
    {
      "cell_type": "markdown",
      "metadata": {
        "id": "faBeksXTTTev"
      },
      "source": [
        "Creating an outputfile for the predicted values of the RNN"
      ]
    },
    {
      "cell_type": "code",
      "source": [
        "#AG This is just a check to make sure that I am getting reasonable results out of my predict function\n",
        "fpreds=lstm_model2.predict(k)\n",
        "preds=fpreds[:,5]\n",
        "preds[:5]"
      ],
      "metadata": {
        "colab": {
          "base_uri": "https://localhost:8080/"
        },
        "id": "8GA81sANwemk",
        "outputId": "421f1d9d-bf7a-46a9-b6c9-15a8a260862f"
      },
      "execution_count": null,
      "outputs": [
        {
          "output_type": "execute_result",
          "data": {
            "text/plain": [
              "array([-0.19052474,  1.23282   ,  1.6089833 ,  0.8411413 ,  0.8081713 ],\n",
              "      dtype=float32)"
            ]
          },
          "metadata": {},
          "execution_count": 404
        }
      ]
    },
    {
      "cell_type": "markdown",
      "source": [
        "AG Below are is how I wrote the results to a file. Note that the variable k is just the transformed input data for the test data. For the final model the output was 4994x10x1 so I needed to index into the 5th column which was the vehicle total. I also decided to just denormalize the data while writing the output file. I had to pull the training standard deviation and mean for traffic volume for this"
      ],
      "metadata": {
        "id": "m7fZvqG6z4R8"
      }
    },
    {
      "cell_type": "code",
      "source": [
        "#Output Files Generator for Baseline Model\n",
        "predictions=multi_step_dense.predict(k)\n",
        "pred=[]\n",
        "for i in predictions:\n",
        "  pred.append(i[0][0]*train_std[\"traffic_volume\"]+train_mean[\"traffic_volume\"])\n",
        "f = open(\"Traffic Volume Baseline Predictions.csv\", \"a\")\n",
        "f.write(\"id,prediction\")\n",
        "f.write(\"\\n\")\n",
        "for i in range(len(pred)):\n",
        "  f.write(str(i+1)+\",\")\n",
        "  f.writelines(str(pred[i]))\n",
        "  f.write(\"\\n\")\n",
        "f.write(\"\\n\")\n",
        "f.close()"
      ],
      "metadata": {
        "id": "aD9Bp97Vsvwh"
      },
      "execution_count": null,
      "outputs": []
    },
    {
      "cell_type": "code",
      "execution_count": null,
      "metadata": {
        "id": "X4lt6A6fSyP8"
      },
      "outputs": [],
      "source": [
        "#Predicting the vehicle totals\n",
        "fpreds=lstm_model2.predict(k)\n",
        "preds=fpreds[:,5]\n",
        "f = open(\"Traffic Volume Predictions 3.csv\", \"a\")\n",
        "f.write(\"id,prediction\")\n",
        "f.write(\"\\n\")\n",
        "id=0\n",
        "for i in preds:\n",
        "  vehicles=round(i*train_std[\"traffic_volume\"]+train_mean[\"traffic_volume\"],2)\n",
        "  f.write(str(1+id)+\",\")\n",
        "  f.writelines(str(vehicles))\n",
        "  id+=1\n",
        "  f.write(\"\\n\")\n",
        "f.write(\"\\n\")\n",
        "f.close()"
      ]
    }
  ],
  "metadata": {
    "colab": {
      "provenance": []
    },
    "kernelspec": {
      "display_name": "Python 3",
      "name": "python3"
    },
    "language_info": {
      "name": "python"
    },
    "accelerator": "GPU"
  },
  "nbformat": 4,
  "nbformat_minor": 0
}